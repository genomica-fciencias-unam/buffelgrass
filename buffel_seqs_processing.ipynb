{
 "cells": [
  {
   "cell_type": "code",
   "execution_count": null,
   "id": "5bddf9f5",
   "metadata": {},
   "outputs": [],
   "source": [
    "#Raw sequence preprocessing"
   ]
  },
  {
   "cell_type": "code",
   "execution_count": null,
   "id": "6b138315",
   "metadata": {},
   "outputs": [],
   "source": [
    "#Library loading\n",
    "library(dada2)"
   ]
  },
  {
   "cell_type": "code",
   "execution_count": null,
   "id": "5900fc18",
   "metadata": {},
   "outputs": [],
   "source": [
    "path = \"/Users/AJaser/Documents/Buffel/fastq_buffel\"\n",
    "list.files(path)\n",
    "#Getting matched lists of the forward and reverse fastq files\n",
    "fnFs = sort(list.files(path, pattern=\"_R1.fastq\", full.names = TRUE))\n",
    "#fnFs\n",
    "fnRs = sort(list.files(path, pattern=\"_R2.fastq\", full.names = TRUE))\n",
    "#fnRs\n",
    "# Extract sample names\n",
    "sample.names = sapply(strsplit(basename(fnFs), \"_\"), `[`, 1)\n",
    "sample.names"
   ]
  },
  {
   "cell_type": "code",
   "execution_count": null,
   "id": "a7698705",
   "metadata": {},
   "outputs": [],
   "source": [
    "#Visualizing the quality profiles of the forward and reverse reads\n",
    "plotQualityProfile(fnFs[1:2])\n",
    "plotQualityProfile(fnRs[1:2])"
   ]
  },
  {
   "cell_type": "code",
   "execution_count": null,
   "id": "6233a8d0",
   "metadata": {},
   "outputs": [],
   "source": [
    "#Trimming sequences\n",
    "fout = filterAndTrim(fnFs, filtFs, trimLeft=17, truncLen=250,\n",
    "              maxN=0, maxEE=6, truncQ=2, rm.phix=TRUE,\n",
    "              compress=TRUE, multithread=TRUE) \n",
    "fout"
   ]
  },
  {
   "cell_type": "code",
   "execution_count": null,
   "id": "82652eba",
   "metadata": {},
   "outputs": [],
   "source": [
    "#Plotting error rates using a parametric error model\n",
    "ferrF = learnErrors(filtFs, multithread=TRUE)\n",
    "plotErrors(ferrF, nominalQ=TRUE)"
   ]
  },
  {
   "cell_type": "code",
   "execution_count": null,
   "id": "c71195dc",
   "metadata": {},
   "outputs": [],
   "source": [
    "#Applying the core sample inference algorithm to the filtered and trimmed sequence data\n",
    "fdadaFs = dada(filtFs, err=ferrF, multithread=TRUE)"
   ]
  },
  {
   "cell_type": "code",
   "execution_count": null,
   "id": "8b7f2b41",
   "metadata": {},
   "outputs": [],
   "source": [
    "#Creating sequence table using the filtered Fw reads file\n",
    "fseqtab = makeSequenceTable(fdadaFs)\n",
    "dim(fseqtab)\n",
    "row.names(fseqtab)\n",
    "# Inspect distribution of sequence lengths\n",
    "table(nchar(getSequences(fseqtab)))"
   ]
  },
  {
   "cell_type": "code",
   "execution_count": null,
   "id": "7175ceca",
   "metadata": {},
   "outputs": [],
   "source": [
    "#Removing chimeras\n",
    "fseqtab.nochim = removeBimeraDenovo(fseqtab, method=\"consensus\", multithread=TRUE, verbose=TRUE)\n",
    "dim(fseqtab.nochim)\n",
    "#Frequency of chimeric sequences\n",
    "sum(fseqtab.nochim)/sum(fseqtab)"
   ]
  },
  {
   "cell_type": "code",
   "execution_count": null,
   "id": "a096d390",
   "metadata": {},
   "outputs": [],
   "source": [
    "#Looking at the number of reads that made it through each step in the pipeline\n",
    "fgetN = function(x) sum(getUniques(x))\n",
    "ftrack = cbind(fout, sapply(fdadaFs, fgetN), rowSums(fseqtab.nochim))\n",
    "colnames(ftrack) = c(\"input\", \"filtered\", \"denoisedF\", \"nonchim\")\n",
    "rownames(ftrack) = sample.names\n",
    "ftrack"
   ]
  },
  {
   "cell_type": "code",
   "execution_count": null,
   "id": "f3d4bc10",
   "metadata": {},
   "outputs": [],
   "source": [
    "#Assign taxonomy using SILVA database\n",
    "ftaxa = assignTaxonomy(fseqtab.nochim, \"/Users/AJaser/Documents/Buffel/ASV/silva_nr_v132_train_set.fa.gz\", multithread=TRUE)"
   ]
  },
  {
   "cell_type": "code",
   "execution_count": null,
   "id": "5fb50217",
   "metadata": {},
   "outputs": [],
   "source": [
    "#Assign taxonomy to species level using SILVA database\n",
    "ftaxa_sp = addSpecies(ftaxa, \"/Users/AJaser/Documents/Buffel/ASV/silva_species_assignment_v132.fa.gz\")"
   ]
  },
  {
   "cell_type": "code",
   "execution_count": null,
   "id": "0b6f28ac",
   "metadata": {},
   "outputs": [],
   "source": [
    "#Inspecting taxonomic assignments at species level\n",
    "ftaxa.print = ftaxa_sp\n",
    "# Removing sequence rownames for display only\n",
    "rownames(ftaxa.print) = NULL\n",
    "ftaxa.print"
   ]
  },
  {
   "cell_type": "code",
   "execution_count": null,
   "id": "9143ab27",
   "metadata": {},
   "outputs": [],
   "source": [
    "theme_set(theme_bw())\n",
    "# Giving our seq headers more manageable names (ASV_1, ASV_2...)\n",
    "fasv_seqs = colnames(fseqtab.nochim)\n",
    "fasv_headers = vector(dim(fseqtab.nochim)[2], mode=\"character\")"
   ]
  },
  {
   "cell_type": "code",
   "execution_count": null,
   "id": "357d3b9a",
   "metadata": {},
   "outputs": [],
   "source": [
    "for (i in 1:dim(fseqtab.nochim)[2]) {\n",
    "  fasv_headers[i] = paste(\">ASV\", i, sep=\"_\")\n",
    "}"
   ]
  },
  {
   "cell_type": "code",
   "execution_count": null,
   "id": "abcb1bba",
   "metadata": {},
   "outputs": [],
   "source": [
    "#Making and writing out a fasta of our final ASV seqs:\n",
    "fasv_fasta = c(rbind(fasv_headers, fasv_seqs))\n",
    "write(fasv_fasta, \"ASVs_Fw.fa\")"
   ]
  },
  {
   "cell_type": "code",
   "execution_count": null,
   "id": "a0165321",
   "metadata": {},
   "outputs": [],
   "source": [
    "#Count table:\n",
    "fasv_tab = t(fseqtab.nochim)\n",
    "row.names(fasv_tab) = sub(\">\", \"\", fasv_headers)\n",
    "write.table(fasv_tab, \"ASVs_Fw_counts.tsv\", sep=\"\\t\", quote=F, col.names=NA)"
   ]
  },
  {
   "cell_type": "code",
   "execution_count": null,
   "id": "8fb7d978",
   "metadata": {},
   "outputs": [],
   "source": [
    "#Tax table:\n",
    "fasv_tax = ftaxa_sp\n",
    "row.names(fasv_tax) = sub(\">\", \"\", fasv_headers)\n",
    "write.table(fasv_tax, \"ASVs_Fw_taxonomy.tsv\", sep=\"\\t\", quote=F, col.names=NA)"
   ]
  },
  {
   "cell_type": "code",
   "execution_count": null,
   "id": "9d6282e5",
   "metadata": {},
   "outputs": [],
   "source": [
    "#Creating a phylogenetic tree\n",
    "qsub -pe completenode 4 -N arbolote -b y -j y -cwd -V \" FastTreeMP -nt -gtr ASVs_Fw_aligned.fasta >tree_ASV_Fw.nwk\""
   ]
  }
 ],
 "metadata": {
  "kernelspec": {
   "display_name": "R",
   "language": "R",
   "name": "ir"
  },
  "language_info": {
   "codemirror_mode": "r",
   "file_extension": ".r",
   "mimetype": "text/x-r-source",
   "name": "R",
   "pygments_lexer": "r",
   "version": "4.1.3"
  }
 },
 "nbformat": 4,
 "nbformat_minor": 5
}
